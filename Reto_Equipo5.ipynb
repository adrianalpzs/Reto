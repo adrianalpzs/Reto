{
  "nbformat": 4,
  "nbformat_minor": 0,
  "metadata": {
    "colab": {
      "provenance": [],
      "collapsed_sections": []
    },
    "kernelspec": {
      "name": "python3",
      "display_name": "Python 3"
    },
    "language_info": {
      "name": "python"
    }
  },
  "cells": [
    {
      "cell_type": "markdown",
      "source": [
        "# Reto Titanic\n",
        "\n",
        "\n",
        "Adriana Inés López Sánchez  A01656937\n",
        "\n",
        "María José Mendoza Muñiz A01652137\n",
        "\n",
        "Lidia Paola Díaz Ramírez A01369117"
      ],
      "metadata": {
        "id": "RLS1pqhUTTA2"
      }
    },
    {
      "cell_type": "code",
      "execution_count": 28,
      "metadata": {
        "id": "iON8Mrdi_VzA",
        "colab": {
          "base_uri": "https://localhost:8080/"
        },
        "outputId": "71fe1cfe-97df-4395-c241-b3e387f7e2ae"
      },
      "outputs": [
        {
          "output_type": "stream",
          "name": "stdout",
          "text": [
            "Drive already mounted at /content/gdrive; to attempt to forcibly remount, call drive.mount(\"/content/gdrive\", force_remount=True).\n",
            "/content\n",
            "[Errno 2] No such file or directory: '/content/gdrive/My Drive/IA/reto'\n",
            "/content\n",
            "gdrive\tsample_data\n"
          ]
        }
      ],
      "source": [
        "from google.colab import drive\n",
        "\n",
        "drive.mount(\"/content/gdrive\")  \n",
        "!pwd  # show current path \n",
        "%cd \"/content/gdrive/My Drive/IA/reto\"\n",
        "!ls  # show current directory"
      ]
    },
    {
      "cell_type": "code",
      "source": [
        "import pandas as pd\n",
        "import numpy as np\n",
        "import matplotlib.pyplot as plt\n",
        "from sklearn.model_selection import GridSearchCV\n",
        "from scipy import stats\n",
        "import seaborn as sns\n",
        "df = pd.read_csv('sample_data/train.csv')"
      ],
      "metadata": {
        "id": "TCsTGmiXJNHB"
      },
      "execution_count": 94,
      "outputs": []
    },
    {
      "cell_type": "markdown",
      "source": [
        "## Exploración de datos"
      ],
      "metadata": {
        "id": "ZAAyoeEjUH6r"
      }
    },
    {
      "cell_type": "code",
      "source": [
        "df.info()\n",
        "df.describe()"
      ],
      "metadata": {
        "id": "LmWSMQ59UFt2",
        "colab": {
          "base_uri": "https://localhost:8080/",
          "height": 604
        },
        "outputId": "3dd17f2b-22ee-4c63-e006-7f45ca753eef"
      },
      "execution_count": 30,
      "outputs": [
        {
          "output_type": "stream",
          "name": "stdout",
          "text": [
            "<class 'pandas.core.frame.DataFrame'>\n",
            "RangeIndex: 891 entries, 0 to 890\n",
            "Data columns (total 12 columns):\n",
            " #   Column       Non-Null Count  Dtype  \n",
            "---  ------       --------------  -----  \n",
            " 0   PassengerId  891 non-null    int64  \n",
            " 1   Survived     891 non-null    int64  \n",
            " 2   Pclass       891 non-null    int64  \n",
            " 3   Name         891 non-null    object \n",
            " 4   Sex          891 non-null    object \n",
            " 5   Age          714 non-null    float64\n",
            " 6   SibSp        891 non-null    int64  \n",
            " 7   Parch        891 non-null    int64  \n",
            " 8   Ticket       891 non-null    object \n",
            " 9   Fare         891 non-null    float64\n",
            " 10  Cabin        204 non-null    object \n",
            " 11  Embarked     889 non-null    object \n",
            "dtypes: float64(2), int64(5), object(5)\n",
            "memory usage: 83.7+ KB\n"
          ]
        },
        {
          "output_type": "execute_result",
          "data": {
            "text/plain": [
              "       PassengerId    Survived      Pclass         Age       SibSp  \\\n",
              "count   891.000000  891.000000  891.000000  714.000000  891.000000   \n",
              "mean    446.000000    0.383838    2.308642   29.699118    0.523008   \n",
              "std     257.353842    0.486592    0.836071   14.526497    1.102743   \n",
              "min       1.000000    0.000000    1.000000    0.420000    0.000000   \n",
              "25%     223.500000    0.000000    2.000000   20.125000    0.000000   \n",
              "50%     446.000000    0.000000    3.000000   28.000000    0.000000   \n",
              "75%     668.500000    1.000000    3.000000   38.000000    1.000000   \n",
              "max     891.000000    1.000000    3.000000   80.000000    8.000000   \n",
              "\n",
              "            Parch        Fare  \n",
              "count  891.000000  891.000000  \n",
              "mean     0.381594   32.204208  \n",
              "std      0.806057   49.693429  \n",
              "min      0.000000    0.000000  \n",
              "25%      0.000000    7.910400  \n",
              "50%      0.000000   14.454200  \n",
              "75%      0.000000   31.000000  \n",
              "max      6.000000  512.329200  "
            ],
            "text/html": [
              "\n",
              "  <div id=\"df-e07e4e54-5ac4-4e69-b341-5822fe8f890c\">\n",
              "    <div class=\"colab-df-container\">\n",
              "      <div>\n",
              "<style scoped>\n",
              "    .dataframe tbody tr th:only-of-type {\n",
              "        vertical-align: middle;\n",
              "    }\n",
              "\n",
              "    .dataframe tbody tr th {\n",
              "        vertical-align: top;\n",
              "    }\n",
              "\n",
              "    .dataframe thead th {\n",
              "        text-align: right;\n",
              "    }\n",
              "</style>\n",
              "<table border=\"1\" class=\"dataframe\">\n",
              "  <thead>\n",
              "    <tr style=\"text-align: right;\">\n",
              "      <th></th>\n",
              "      <th>PassengerId</th>\n",
              "      <th>Survived</th>\n",
              "      <th>Pclass</th>\n",
              "      <th>Age</th>\n",
              "      <th>SibSp</th>\n",
              "      <th>Parch</th>\n",
              "      <th>Fare</th>\n",
              "    </tr>\n",
              "  </thead>\n",
              "  <tbody>\n",
              "    <tr>\n",
              "      <th>count</th>\n",
              "      <td>891.000000</td>\n",
              "      <td>891.000000</td>\n",
              "      <td>891.000000</td>\n",
              "      <td>714.000000</td>\n",
              "      <td>891.000000</td>\n",
              "      <td>891.000000</td>\n",
              "      <td>891.000000</td>\n",
              "    </tr>\n",
              "    <tr>\n",
              "      <th>mean</th>\n",
              "      <td>446.000000</td>\n",
              "      <td>0.383838</td>\n",
              "      <td>2.308642</td>\n",
              "      <td>29.699118</td>\n",
              "      <td>0.523008</td>\n",
              "      <td>0.381594</td>\n",
              "      <td>32.204208</td>\n",
              "    </tr>\n",
              "    <tr>\n",
              "      <th>std</th>\n",
              "      <td>257.353842</td>\n",
              "      <td>0.486592</td>\n",
              "      <td>0.836071</td>\n",
              "      <td>14.526497</td>\n",
              "      <td>1.102743</td>\n",
              "      <td>0.806057</td>\n",
              "      <td>49.693429</td>\n",
              "    </tr>\n",
              "    <tr>\n",
              "      <th>min</th>\n",
              "      <td>1.000000</td>\n",
              "      <td>0.000000</td>\n",
              "      <td>1.000000</td>\n",
              "      <td>0.420000</td>\n",
              "      <td>0.000000</td>\n",
              "      <td>0.000000</td>\n",
              "      <td>0.000000</td>\n",
              "    </tr>\n",
              "    <tr>\n",
              "      <th>25%</th>\n",
              "      <td>223.500000</td>\n",
              "      <td>0.000000</td>\n",
              "      <td>2.000000</td>\n",
              "      <td>20.125000</td>\n",
              "      <td>0.000000</td>\n",
              "      <td>0.000000</td>\n",
              "      <td>7.910400</td>\n",
              "    </tr>\n",
              "    <tr>\n",
              "      <th>50%</th>\n",
              "      <td>446.000000</td>\n",
              "      <td>0.000000</td>\n",
              "      <td>3.000000</td>\n",
              "      <td>28.000000</td>\n",
              "      <td>0.000000</td>\n",
              "      <td>0.000000</td>\n",
              "      <td>14.454200</td>\n",
              "    </tr>\n",
              "    <tr>\n",
              "      <th>75%</th>\n",
              "      <td>668.500000</td>\n",
              "      <td>1.000000</td>\n",
              "      <td>3.000000</td>\n",
              "      <td>38.000000</td>\n",
              "      <td>1.000000</td>\n",
              "      <td>0.000000</td>\n",
              "      <td>31.000000</td>\n",
              "    </tr>\n",
              "    <tr>\n",
              "      <th>max</th>\n",
              "      <td>891.000000</td>\n",
              "      <td>1.000000</td>\n",
              "      <td>3.000000</td>\n",
              "      <td>80.000000</td>\n",
              "      <td>8.000000</td>\n",
              "      <td>6.000000</td>\n",
              "      <td>512.329200</td>\n",
              "    </tr>\n",
              "  </tbody>\n",
              "</table>\n",
              "</div>\n",
              "      <button class=\"colab-df-convert\" onclick=\"convertToInteractive('df-e07e4e54-5ac4-4e69-b341-5822fe8f890c')\"\n",
              "              title=\"Convert this dataframe to an interactive table.\"\n",
              "              style=\"display:none;\">\n",
              "        \n",
              "  <svg xmlns=\"http://www.w3.org/2000/svg\" height=\"24px\"viewBox=\"0 0 24 24\"\n",
              "       width=\"24px\">\n",
              "    <path d=\"M0 0h24v24H0V0z\" fill=\"none\"/>\n",
              "    <path d=\"M18.56 5.44l.94 2.06.94-2.06 2.06-.94-2.06-.94-.94-2.06-.94 2.06-2.06.94zm-11 1L8.5 8.5l.94-2.06 2.06-.94-2.06-.94L8.5 2.5l-.94 2.06-2.06.94zm10 10l.94 2.06.94-2.06 2.06-.94-2.06-.94-.94-2.06-.94 2.06-2.06.94z\"/><path d=\"M17.41 7.96l-1.37-1.37c-.4-.4-.92-.59-1.43-.59-.52 0-1.04.2-1.43.59L10.3 9.45l-7.72 7.72c-.78.78-.78 2.05 0 2.83L4 21.41c.39.39.9.59 1.41.59.51 0 1.02-.2 1.41-.59l7.78-7.78 2.81-2.81c.8-.78.8-2.07 0-2.86zM5.41 20L4 18.59l7.72-7.72 1.47 1.35L5.41 20z\"/>\n",
              "  </svg>\n",
              "      </button>\n",
              "      \n",
              "  <style>\n",
              "    .colab-df-container {\n",
              "      display:flex;\n",
              "      flex-wrap:wrap;\n",
              "      gap: 12px;\n",
              "    }\n",
              "\n",
              "    .colab-df-convert {\n",
              "      background-color: #E8F0FE;\n",
              "      border: none;\n",
              "      border-radius: 50%;\n",
              "      cursor: pointer;\n",
              "      display: none;\n",
              "      fill: #1967D2;\n",
              "      height: 32px;\n",
              "      padding: 0 0 0 0;\n",
              "      width: 32px;\n",
              "    }\n",
              "\n",
              "    .colab-df-convert:hover {\n",
              "      background-color: #E2EBFA;\n",
              "      box-shadow: 0px 1px 2px rgba(60, 64, 67, 0.3), 0px 1px 3px 1px rgba(60, 64, 67, 0.15);\n",
              "      fill: #174EA6;\n",
              "    }\n",
              "\n",
              "    [theme=dark] .colab-df-convert {\n",
              "      background-color: #3B4455;\n",
              "      fill: #D2E3FC;\n",
              "    }\n",
              "\n",
              "    [theme=dark] .colab-df-convert:hover {\n",
              "      background-color: #434B5C;\n",
              "      box-shadow: 0px 1px 3px 1px rgba(0, 0, 0, 0.15);\n",
              "      filter: drop-shadow(0px 1px 2px rgba(0, 0, 0, 0.3));\n",
              "      fill: #FFFFFF;\n",
              "    }\n",
              "  </style>\n",
              "\n",
              "      <script>\n",
              "        const buttonEl =\n",
              "          document.querySelector('#df-e07e4e54-5ac4-4e69-b341-5822fe8f890c button.colab-df-convert');\n",
              "        buttonEl.style.display =\n",
              "          google.colab.kernel.accessAllowed ? 'block' : 'none';\n",
              "\n",
              "        async function convertToInteractive(key) {\n",
              "          const element = document.querySelector('#df-e07e4e54-5ac4-4e69-b341-5822fe8f890c');\n",
              "          const dataTable =\n",
              "            await google.colab.kernel.invokeFunction('convertToInteractive',\n",
              "                                                     [key], {});\n",
              "          if (!dataTable) return;\n",
              "\n",
              "          const docLinkHtml = 'Like what you see? Visit the ' +\n",
              "            '<a target=\"_blank\" href=https://colab.research.google.com/notebooks/data_table.ipynb>data table notebook</a>'\n",
              "            + ' to learn more about interactive tables.';\n",
              "          element.innerHTML = '';\n",
              "          dataTable['output_type'] = 'display_data';\n",
              "          await google.colab.output.renderOutput(dataTable, element);\n",
              "          const docLink = document.createElement('div');\n",
              "          docLink.innerHTML = docLinkHtml;\n",
              "          element.appendChild(docLink);\n",
              "        }\n",
              "      </script>\n",
              "    </div>\n",
              "  </div>\n",
              "  "
            ]
          },
          "metadata": {},
          "execution_count": 30
        }
      ]
    },
    {
      "cell_type": "code",
      "source": [
        "df.head()\n"
      ],
      "metadata": {
        "id": "jl0iM-AnJvzk",
        "colab": {
          "base_uri": "https://localhost:8080/",
          "height": 201
        },
        "outputId": "5cc07669-ce71-4ac8-95ed-b0dff609919c"
      },
      "execution_count": 31,
      "outputs": [
        {
          "output_type": "execute_result",
          "data": {
            "text/plain": [
              "   PassengerId  Survived  Pclass  \\\n",
              "0            1         0       3   \n",
              "1            2         1       1   \n",
              "2            3         1       3   \n",
              "3            4         1       1   \n",
              "4            5         0       3   \n",
              "\n",
              "                                                Name     Sex   Age  SibSp  \\\n",
              "0                            Braund, Mr. Owen Harris    male  22.0      1   \n",
              "1  Cumings, Mrs. John Bradley (Florence Briggs Th...  female  38.0      1   \n",
              "2                             Heikkinen, Miss. Laina  female  26.0      0   \n",
              "3       Futrelle, Mrs. Jacques Heath (Lily May Peel)  female  35.0      1   \n",
              "4                           Allen, Mr. William Henry    male  35.0      0   \n",
              "\n",
              "   Parch            Ticket     Fare Cabin Embarked  \n",
              "0      0         A/5 21171   7.2500   NaN        S  \n",
              "1      0          PC 17599  71.2833   C85        C  \n",
              "2      0  STON/O2. 3101282   7.9250   NaN        S  \n",
              "3      0            113803  53.1000  C123        S  \n",
              "4      0            373450   8.0500   NaN        S  "
            ],
            "text/html": [
              "\n",
              "  <div id=\"df-1c8b7339-4134-40ba-b2fd-7e520ec9e8ec\">\n",
              "    <div class=\"colab-df-container\">\n",
              "      <div>\n",
              "<style scoped>\n",
              "    .dataframe tbody tr th:only-of-type {\n",
              "        vertical-align: middle;\n",
              "    }\n",
              "\n",
              "    .dataframe tbody tr th {\n",
              "        vertical-align: top;\n",
              "    }\n",
              "\n",
              "    .dataframe thead th {\n",
              "        text-align: right;\n",
              "    }\n",
              "</style>\n",
              "<table border=\"1\" class=\"dataframe\">\n",
              "  <thead>\n",
              "    <tr style=\"text-align: right;\">\n",
              "      <th></th>\n",
              "      <th>PassengerId</th>\n",
              "      <th>Survived</th>\n",
              "      <th>Pclass</th>\n",
              "      <th>Name</th>\n",
              "      <th>Sex</th>\n",
              "      <th>Age</th>\n",
              "      <th>SibSp</th>\n",
              "      <th>Parch</th>\n",
              "      <th>Ticket</th>\n",
              "      <th>Fare</th>\n",
              "      <th>Cabin</th>\n",
              "      <th>Embarked</th>\n",
              "    </tr>\n",
              "  </thead>\n",
              "  <tbody>\n",
              "    <tr>\n",
              "      <th>0</th>\n",
              "      <td>1</td>\n",
              "      <td>0</td>\n",
              "      <td>3</td>\n",
              "      <td>Braund, Mr. Owen Harris</td>\n",
              "      <td>male</td>\n",
              "      <td>22.0</td>\n",
              "      <td>1</td>\n",
              "      <td>0</td>\n",
              "      <td>A/5 21171</td>\n",
              "      <td>7.2500</td>\n",
              "      <td>NaN</td>\n",
              "      <td>S</td>\n",
              "    </tr>\n",
              "    <tr>\n",
              "      <th>1</th>\n",
              "      <td>2</td>\n",
              "      <td>1</td>\n",
              "      <td>1</td>\n",
              "      <td>Cumings, Mrs. John Bradley (Florence Briggs Th...</td>\n",
              "      <td>female</td>\n",
              "      <td>38.0</td>\n",
              "      <td>1</td>\n",
              "      <td>0</td>\n",
              "      <td>PC 17599</td>\n",
              "      <td>71.2833</td>\n",
              "      <td>C85</td>\n",
              "      <td>C</td>\n",
              "    </tr>\n",
              "    <tr>\n",
              "      <th>2</th>\n",
              "      <td>3</td>\n",
              "      <td>1</td>\n",
              "      <td>3</td>\n",
              "      <td>Heikkinen, Miss. Laina</td>\n",
              "      <td>female</td>\n",
              "      <td>26.0</td>\n",
              "      <td>0</td>\n",
              "      <td>0</td>\n",
              "      <td>STON/O2. 3101282</td>\n",
              "      <td>7.9250</td>\n",
              "      <td>NaN</td>\n",
              "      <td>S</td>\n",
              "    </tr>\n",
              "    <tr>\n",
              "      <th>3</th>\n",
              "      <td>4</td>\n",
              "      <td>1</td>\n",
              "      <td>1</td>\n",
              "      <td>Futrelle, Mrs. Jacques Heath (Lily May Peel)</td>\n",
              "      <td>female</td>\n",
              "      <td>35.0</td>\n",
              "      <td>1</td>\n",
              "      <td>0</td>\n",
              "      <td>113803</td>\n",
              "      <td>53.1000</td>\n",
              "      <td>C123</td>\n",
              "      <td>S</td>\n",
              "    </tr>\n",
              "    <tr>\n",
              "      <th>4</th>\n",
              "      <td>5</td>\n",
              "      <td>0</td>\n",
              "      <td>3</td>\n",
              "      <td>Allen, Mr. William Henry</td>\n",
              "      <td>male</td>\n",
              "      <td>35.0</td>\n",
              "      <td>0</td>\n",
              "      <td>0</td>\n",
              "      <td>373450</td>\n",
              "      <td>8.0500</td>\n",
              "      <td>NaN</td>\n",
              "      <td>S</td>\n",
              "    </tr>\n",
              "  </tbody>\n",
              "</table>\n",
              "</div>\n",
              "      <button class=\"colab-df-convert\" onclick=\"convertToInteractive('df-1c8b7339-4134-40ba-b2fd-7e520ec9e8ec')\"\n",
              "              title=\"Convert this dataframe to an interactive table.\"\n",
              "              style=\"display:none;\">\n",
              "        \n",
              "  <svg xmlns=\"http://www.w3.org/2000/svg\" height=\"24px\"viewBox=\"0 0 24 24\"\n",
              "       width=\"24px\">\n",
              "    <path d=\"M0 0h24v24H0V0z\" fill=\"none\"/>\n",
              "    <path d=\"M18.56 5.44l.94 2.06.94-2.06 2.06-.94-2.06-.94-.94-2.06-.94 2.06-2.06.94zm-11 1L8.5 8.5l.94-2.06 2.06-.94-2.06-.94L8.5 2.5l-.94 2.06-2.06.94zm10 10l.94 2.06.94-2.06 2.06-.94-2.06-.94-.94-2.06-.94 2.06-2.06.94z\"/><path d=\"M17.41 7.96l-1.37-1.37c-.4-.4-.92-.59-1.43-.59-.52 0-1.04.2-1.43.59L10.3 9.45l-7.72 7.72c-.78.78-.78 2.05 0 2.83L4 21.41c.39.39.9.59 1.41.59.51 0 1.02-.2 1.41-.59l7.78-7.78 2.81-2.81c.8-.78.8-2.07 0-2.86zM5.41 20L4 18.59l7.72-7.72 1.47 1.35L5.41 20z\"/>\n",
              "  </svg>\n",
              "      </button>\n",
              "      \n",
              "  <style>\n",
              "    .colab-df-container {\n",
              "      display:flex;\n",
              "      flex-wrap:wrap;\n",
              "      gap: 12px;\n",
              "    }\n",
              "\n",
              "    .colab-df-convert {\n",
              "      background-color: #E8F0FE;\n",
              "      border: none;\n",
              "      border-radius: 50%;\n",
              "      cursor: pointer;\n",
              "      display: none;\n",
              "      fill: #1967D2;\n",
              "      height: 32px;\n",
              "      padding: 0 0 0 0;\n",
              "      width: 32px;\n",
              "    }\n",
              "\n",
              "    .colab-df-convert:hover {\n",
              "      background-color: #E2EBFA;\n",
              "      box-shadow: 0px 1px 2px rgba(60, 64, 67, 0.3), 0px 1px 3px 1px rgba(60, 64, 67, 0.15);\n",
              "      fill: #174EA6;\n",
              "    }\n",
              "\n",
              "    [theme=dark] .colab-df-convert {\n",
              "      background-color: #3B4455;\n",
              "      fill: #D2E3FC;\n",
              "    }\n",
              "\n",
              "    [theme=dark] .colab-df-convert:hover {\n",
              "      background-color: #434B5C;\n",
              "      box-shadow: 0px 1px 3px 1px rgba(0, 0, 0, 0.15);\n",
              "      filter: drop-shadow(0px 1px 2px rgba(0, 0, 0, 0.3));\n",
              "      fill: #FFFFFF;\n",
              "    }\n",
              "  </style>\n",
              "\n",
              "      <script>\n",
              "        const buttonEl =\n",
              "          document.querySelector('#df-1c8b7339-4134-40ba-b2fd-7e520ec9e8ec button.colab-df-convert');\n",
              "        buttonEl.style.display =\n",
              "          google.colab.kernel.accessAllowed ? 'block' : 'none';\n",
              "\n",
              "        async function convertToInteractive(key) {\n",
              "          const element = document.querySelector('#df-1c8b7339-4134-40ba-b2fd-7e520ec9e8ec');\n",
              "          const dataTable =\n",
              "            await google.colab.kernel.invokeFunction('convertToInteractive',\n",
              "                                                     [key], {});\n",
              "          if (!dataTable) return;\n",
              "\n",
              "          const docLinkHtml = 'Like what you see? Visit the ' +\n",
              "            '<a target=\"_blank\" href=https://colab.research.google.com/notebooks/data_table.ipynb>data table notebook</a>'\n",
              "            + ' to learn more about interactive tables.';\n",
              "          element.innerHTML = '';\n",
              "          dataTable['output_type'] = 'display_data';\n",
              "          await google.colab.output.renderOutput(dataTable, element);\n",
              "          const docLink = document.createElement('div');\n",
              "          docLink.innerHTML = docLinkHtml;\n",
              "          element.appendChild(docLink);\n",
              "        }\n",
              "      </script>\n",
              "    </div>\n",
              "  </div>\n",
              "  "
            ]
          },
          "metadata": {},
          "execution_count": 31
        }
      ]
    },
    {
      "cell_type": "markdown",
      "source": [
        "**0   PassengerId:** int64 -> categorica\n",
        "\n",
        "**1   Survive:** int64 -> booleana (0 = No, 1= Yes)\n",
        "\n",
        "**2   Pclass:** int64 -> categorica\n",
        "\n",
        "**3   Name:** object -> categorica\n",
        "\n",
        "**4   Sex:** object -> categorica\n",
        "\n",
        "**5   Age:** float64 -> numerica\n",
        "\n",
        "**6   SibSp:** int64 -> numerica (#siblings/ or spouses)\n",
        "\n",
        "**7   Parch:** int64 -> numerica (#parents/children)\n",
        "\n",
        "**8   Ticket:** object -> categorica\n",
        "\n",
        "**9   Fare:** float64 -> numerica\n",
        "\n",
        "**10  Cabin:** object -> categorica\n",
        "\n",
        "**11  Embarked:** object -> categorica (puerto C= Cherbourg, Q= Queenstown, S= South Hampton"
      ],
      "metadata": {
        "id": "uE_iH8ee-INY"
      }
    },
    {
      "cell_type": "code",
      "source": [
        "numericas = df[[\"Age\", \"SibSp\", \"Parch\", \n",
        "             \"Fare\"]]\n",
        "\n",
        "#Sin considerar los nombres y cabinas\n",
        "categoricas0 = df[['Survived','Pclass','Sex', 'Ticket', 'Cabin', 'Embarked']]\n",
        "\n",
        "for i in numericas:\n",
        "  plt.hist(df[i])\n",
        "  plt.title(\"Variable numerica: \"+i)\n",
        "  plt.show()\n",
        "\n",
        "# Para entender el comportamiento de una variable categorica\n",
        "# también necesitamos graficarla.\n",
        "for i in categoricas0:\n",
        "  ((df[i].value_counts()/df.shape[0])*100).plot(kind='bar',\n",
        "                                                      color = 'orange',\n",
        "                                                      alpha = 0.5)\n",
        "  plt.grid(True, color = \"grey\", lw = 0.5, ls = \":\", axis = 'y')\n",
        "  plt.title(\"Variable categorica: \"+i)\n",
        "  plt.show()"
      ],
      "metadata": {
        "id": "9YzRDXhN_OqW",
        "colab": {
          "base_uri": "https://localhost:8080/",
          "height": 1000
        },
        "outputId": "a6f2329e-84b3-40b7-b2cf-d6c23a54a311"
      },
      "execution_count": 32,
      "outputs": [
        {
          "output_type": "display_data",
          "data": {
            "text/plain": [
              "<Figure size 432x288 with 1 Axes>"
            ],
            "image/png": "[encoded data removed]"
          },
          "metadata": {
            "needs_background": "light"
          }
        },
        {
          "output_type": "display_data",
          "data": {
            "text/plain": [
              "<Figure size 432x288 with 1 Axes>"
            ],
            "image/png": "[encoded data removed]"
          },
          "metadata": {
            "needs_background": "light"
          }
        },
        {
          "output_type": "display_data",
          "data": {
            "text/plain": [
              "<Figure size 432x288 with 1 Axes>"
            ],
            "image/png": "[encoded data removed]"
          },
          "metadata": {
            "needs_background": "light"
          }
        },
        {
          "output_type": "display_data",
          "data": {
            "text/plain": [
              "<Figure size 432x288 with 1 Axes>"
            ],
            "image/png": "[encoded data removed]"
          },
          "metadata": {
            "needs_background": "light"
          }
        },
        {
          "output_type": "display_data",
          "data": {
            "text/plain": [
              "<Figure size 432x288 with 1 Axes>"
            ],
            "image/png": "[encoded data removed]"
          },
          "metadata": {
            "needs_background": "light"
          }
        },
        {
          "output_type": "display_data",
          "data": {
            "text/plain": [
              "<Figure size 432x288 with 1 Axes>"
            ],
            "image/png": "[encoded data removed]"
          },
          "metadata": {
            "needs_background": "light"
          }
        },
        {
          "output_type": "display_data",
          "data": {
            "text/plain": [
              "<Figure size 432x288 with 1 Axes>"
            ],
            "image/png": "[encoded data removed]"
          },
          "metadata": {
            "needs_background": "light"
          }
        },
        {
          "output_type": "display_data",
          "data": {
            "text/plain": [
              "<Figure size 432x288 with 1 Axes>"
            ],
            "image/png": "[encoded data removed]"
          },
          "metadata": {
            "needs_background": "light"
          }
        },
        {
          "output_type": "display_data",
          "data": {
            "text/plain": [
              "<Figure size 432x288 with 1 Axes>"
            ],
            "image/png": "[encoded data removed]"
          },
          "metadata": {
            "needs_background": "light"
          }
        },
        {
          "output_type": "display_data",
          "data": {
            "text/plain": [
              "<Figure size 432x288 with 1 Axes>"
            ],
            "image/png": "[encoded data removed]"
          },
          "metadata": {
            "needs_background": "light"
          }
        }
      ]
    },
    {
      "cell_type": "code",
      "source": [
        "print(100*df.isnull().mean())"
      ],
      "metadata": {
        "id": "AiVMn8keBclN",
        "colab": {
          "base_uri": "https://localhost:8080/"
        },
        "outputId": "28aed0ea-8450-4cfa-d8a7-704998faba85"
      },
      "execution_count": 33,
      "outputs": [
        {
          "output_type": "stream",
          "name": "stdout",
          "text": [
            "PassengerId     0.000000\n",
            "Survived        0.000000\n",
            "Pclass          0.000000\n",
            "Name            0.000000\n",
            "Sex             0.000000\n",
            "Age            19.865320\n",
            "SibSp           0.000000\n",
            "Parch           0.000000\n",
            "Ticket          0.000000\n",
            "Fare            0.000000\n",
            "Cabin          77.104377\n",
            "Embarked        0.224467\n",
            "dtype: float64\n"
          ]
        }
      ]
    },
    {
      "cell_type": "code",
      "source": [
        "print(numericas.corr())\n",
        "sns.heatmap(numericas.corr())"
      ],
      "metadata": {
        "id": "BqUXcKkWCEyy",
        "colab": {
          "base_uri": "https://localhost:8080/",
          "height": 367
        },
        "outputId": "c6b5aa1f-6595-4155-ac66-9ee053d7e2f6"
      },
      "execution_count": 34,
      "outputs": [
        {
          "output_type": "stream",
          "name": "stdout",
          "text": [
            "            Age     SibSp     Parch      Fare\n",
            "Age    1.000000 -0.308247 -0.189119  0.096067\n",
            "SibSp -0.308247  1.000000  0.414838  0.159651\n",
            "Parch -0.189119  0.414838  1.000000  0.216225\n",
            "Fare   0.096067  0.159651  0.216225  1.000000\n"
          ]
        },
        {
          "output_type": "execute_result",
          "data": {
            "text/plain": [
              "<matplotlib.axes._subplots.AxesSubplot at 0x7f4b2a4bc9d0>"
            ]
          },
          "metadata": {},
          "execution_count": 34
        },
        {
          "output_type": "display_data",
          "data": {
            "text/plain": [
              "<Figure size 432x288 with 2 Axes>"
            ],
            "image/png": "[encoded data removed]"
          },
          "metadata": {
            "needs_background": "light"
          }
        }
      ]
    },
    {
      "cell_type": "code",
      "source": [
        "pd.pivot_table(df, index = 'Survived', values = ['Age','SibSp','Parch','Fare'])"
      ],
      "metadata": {
        "id": "HZ4xDlArDGCi",
        "colab": {
          "base_uri": "https://localhost:8080/",
          "height": 140
        },
        "outputId": "662907c7-eaf4-46b5-f4e5-20534a62ff87"
      },
      "execution_count": 35,
      "outputs": [
        {
          "output_type": "execute_result",
          "data": {
            "text/plain": [
              "                Age       Fare     Parch     SibSp\n",
              "Survived                                          \n",
              "0         30.626179  22.117887  0.329690  0.553734\n",
              "1         28.343690  48.395408  0.464912  0.473684"
            ],
            "text/html": [
              "\n",
              "  <div id=\"df-9cce7a7f-7323-4b4f-adf5-a4d22f328dba\">\n",
              "    <div class=\"colab-df-container\">\n",
              "      <div>\n",
              "<style scoped>\n",
              "    .dataframe tbody tr th:only-of-type {\n",
              "        vertical-align: middle;\n",
              "    }\n",
              "\n",
              "    .dataframe tbody tr th {\n",
              "        vertical-align: top;\n",
              "    }\n",
              "\n",
              "    .dataframe thead th {\n",
              "        text-align: right;\n",
              "    }\n",
              "</style>\n",
              "<table border=\"1\" class=\"dataframe\">\n",
              "  <thead>\n",
              "    <tr style=\"text-align: right;\">\n",
              "      <th></th>\n",
              "      <th>Age</th>\n",
              "      <th>Fare</th>\n",
              "      <th>Parch</th>\n",
              "      <th>SibSp</th>\n",
              "    </tr>\n",
              "    <tr>\n",
              "      <th>Survived</th>\n",
              "      <th></th>\n",
              "      <th></th>\n",
              "      <th></th>\n",
              "      <th></th>\n",
              "    </tr>\n",
              "  </thead>\n",
              "  <tbody>\n",
              "    <tr>\n",
              "      <th>0</th>\n",
              "      <td>30.626179</td>\n",
              "      <td>22.117887</td>\n",
              "      <td>0.329690</td>\n",
              "      <td>0.553734</td>\n",
              "    </tr>\n",
              "    <tr>\n",
              "      <th>1</th>\n",
              "      <td>28.343690</td>\n",
              "      <td>48.395408</td>\n",
              "      <td>0.464912</td>\n",
              "      <td>0.473684</td>\n",
              "    </tr>\n",
              "  </tbody>\n",
              "</table>\n",
              "</div>\n",
              "      <button class=\"colab-df-convert\" onclick=\"convertToInteractive('df-9cce7a7f-7323-4b4f-adf5-a4d22f328dba')\"\n",
              "              title=\"Convert this dataframe to an interactive table.\"\n",
              "              style=\"display:none;\">\n",
              "        \n",
              "  <svg xmlns=\"http://www.w3.org/2000/svg\" height=\"24px\"viewBox=\"0 0 24 24\"\n",
              "       width=\"24px\">\n",
              "    <path d=\"M0 0h24v24H0V0z\" fill=\"none\"/>\n",
              "    <path d=\"M18.56 5.44l.94 2.06.94-2.06 2.06-.94-2.06-.94-.94-2.06-.94 2.06-2.06.94zm-11 1L8.5 8.5l.94-2.06 2.06-.94-2.06-.94L8.5 2.5l-.94 2.06-2.06.94zm10 10l.94 2.06.94-2.06 2.06-.94-2.06-.94-.94-2.06-.94 2.06-2.06.94z\"/><path d=\"M17.41 7.96l-1.37-1.37c-.4-.4-.92-.59-1.43-.59-.52 0-1.04.2-1.43.59L10.3 9.45l-7.72 7.72c-.78.78-.78 2.05 0 2.83L4 21.41c.39.39.9.59 1.41.59.51 0 1.02-.2 1.41-.59l7.78-7.78 2.81-2.81c.8-.78.8-2.07 0-2.86zM5.41 20L4 18.59l7.72-7.72 1.47 1.35L5.41 20z\"/>\n",
              "  </svg>\n",
              "      </button>\n",
              "      \n",
              "  <style>\n",
              "    .colab-df-container {\n",
              "      display:flex;\n",
              "      flex-wrap:wrap;\n",
              "      gap: 12px;\n",
              "    }\n",
              "\n",
              "    .colab-df-convert {\n",
              "      background-color: #E8F0FE;\n",
              "      border: none;\n",
              "      border-radius: 50%;\n",
              "      cursor: pointer;\n",
              "      display: none;\n",
              "      fill: #1967D2;\n",
              "      height: 32px;\n",
              "      padding: 0 0 0 0;\n",
              "      width: 32px;\n",
              "    }\n",
              "\n",
              "    .colab-df-convert:hover {\n",
              "      background-color: #E2EBFA;\n",
              "      box-shadow: 0px 1px 2px rgba(60, 64, 67, 0.3), 0px 1px 3px 1px rgba(60, 64, 67, 0.15);\n",
              "      fill: #174EA6;\n",
              "    }\n",
              "\n",
              "    [theme=dark] .colab-df-convert {\n",
              "      background-color: #3B4455;\n",
              "      fill: #D2E3FC;\n",
              "    }\n",
              "\n",
              "    [theme=dark] .colab-df-convert:hover {\n",
              "      background-color: #434B5C;\n",
              "      box-shadow: 0px 1px 3px 1px rgba(0, 0, 0, 0.15);\n",
              "      filter: drop-shadow(0px 1px 2px rgba(0, 0, 0, 0.3));\n",
              "      fill: #FFFFFF;\n",
              "    }\n",
              "  </style>\n",
              "\n",
              "      <script>\n",
              "        const buttonEl =\n",
              "          document.querySelector('#df-9cce7a7f-7323-4b4f-adf5-a4d22f328dba button.colab-df-convert');\n",
              "        buttonEl.style.display =\n",
              "          google.colab.kernel.accessAllowed ? 'block' : 'none';\n",
              "\n",
              "        async function convertToInteractive(key) {\n",
              "          const element = document.querySelector('#df-9cce7a7f-7323-4b4f-adf5-a4d22f328dba');\n",
              "          const dataTable =\n",
              "            await google.colab.kernel.invokeFunction('convertToInteractive',\n",
              "                                                     [key], {});\n",
              "          if (!dataTable) return;\n",
              "\n",
              "          const docLinkHtml = 'Like what you see? Visit the ' +\n",
              "            '<a target=\"_blank\" href=https://colab.research.google.com/notebooks/data_table.ipynb>data table notebook</a>'\n",
              "            + ' to learn more about interactive tables.';\n",
              "          element.innerHTML = '';\n",
              "          dataTable['output_type'] = 'display_data';\n",
              "          await google.colab.output.renderOutput(dataTable, element);\n",
              "          const docLink = document.createElement('div');\n",
              "          docLink.innerHTML = docLinkHtml;\n",
              "          element.appendChild(docLink);\n",
              "        }\n",
              "      </script>\n",
              "    </div>\n",
              "  </div>\n",
              "  "
            ]
          },
          "metadata": {},
          "execution_count": 35
        }
      ]
    },
    {
      "cell_type": "code",
      "source": [
        "# Datos atipicos\n",
        "\n",
        "for i in numericas:\n",
        "  #dada la muestra calculamos los valores que se usan\n",
        "  # Para ello usamos los datos y la funcion percentil de numpy\n",
        "  plt.subplot(2,1,1)\n",
        "  x = df[i][~df[i].isnull()]\n",
        "  Q_3 = np.percentile(x, 75)\n",
        "  Q_1 = np.percentile(x, 25)\n",
        "  IQR = Q_3 - Q_1\n",
        "  lim_sup = Q_3 + 1.5*IQR\n",
        "  lim_inf = Q_1 - 1.5*IQR\n",
        "  #Vamos a dibujarla\n",
        "  plt.boxplot(x, vert = False)\n",
        "  plt.axvline(lim_sup, color = 'green')\n",
        "  plt.axvline(lim_inf, color = 'blue')\n",
        "  plt.title(\"Boxplot \"+i)\n",
        "  atipicos = len(x.loc[(x < lim_inf)]) + len(x.loc[(x > lim_sup)])\n",
        "  print(\"Cantidad de atipicos en\",i,\"es:\",\n",
        "        atipicos ,\"\\n\",\n",
        "        \"En porcentajes: \",\n",
        "        np.round(100*atipicos/len(df),2),\"\\n\",\n",
        "        \"Rango intercuartil:\", IQR)\n",
        "  \n",
        "  plt.subplot(2,1,2)\n",
        "  y = x.loc[(x >= lim_inf) & (x <= lim_sup)]\n",
        "  Q_3 = np.percentile(y, 75)\n",
        "  Q_1 = np.percentile(y, 25)\n",
        "  IQR = Q_3 - Q_1\n",
        "  lim_sup = Q_3 + 1.5*IQR\n",
        "  lim_inf = Q_1 - 1.5*IQR\n",
        "  #Vamos a dibujarla\n",
        "  plt.boxplot(y, vert = False)\n",
        "  plt.axvline(lim_sup, color = 'green')\n",
        "  plt.axvline(lim_inf, color = 'blue')\n",
        "  plt.title(\"Boxplot sin atipicos \"+i)\n",
        "  atipicos = len(y.loc[(y < lim_inf)]) + len(y.loc[(y> lim_sup)])\n",
        "  print(\"Cantidad de atipicos en\",i,\"es:\",\n",
        "        atipicos ,\"\\n\",\n",
        "        \"En porcentajes: \",\n",
        "        np.round(100*atipicos/len(df),2),\"\\n\",\n",
        "        \"Rango intercuartil:\" ,IQR)\n",
        "  # Graficas\n",
        "  plt.tight_layout()\n",
        "  plt.show()\n"
      ],
      "metadata": {
        "id": "6ab1oCJwDi8u",
        "colab": {
          "base_uri": "https://localhost:8080/",
          "height": 1000
        },
        "outputId": "be0c73a9-2bdd-4220-dc14-ce1e29c6828d"
      },
      "execution_count": 36,
      "outputs": [
        {
          "output_type": "stream",
          "name": "stdout",
          "text": [
            "Cantidad de atipicos en Age es: 11 \n",
            " En porcentajes:  1.23 \n",
            " Rango intercuartil: 17.875\n",
            "Cantidad de atipicos en Age es: 0 \n",
            " En porcentajes:  0.0 \n",
            " Rango intercuartil: 18.0\n"
          ]
        },
        {
          "output_type": "display_data",
          "data": {
            "text/plain": [
              "<Figure size 432x288 with 2 Axes>"
            ],
            "image/png": "[encoded data removed]"
          },
          "metadata": {
            "needs_background": "light"
          }
        },
        {
          "output_type": "stream",
          "name": "stdout",
          "text": [
            "Cantidad de atipicos en SibSp es: 46 \n",
            " En porcentajes:  5.16 \n",
            " Rango intercuartil: 1.0\n",
            "Cantidad de atipicos en SibSp es: 0 \n",
            " En porcentajes:  0.0 \n",
            " Rango intercuartil: 1.0\n"
          ]
        },
        {
          "output_type": "display_data",
          "data": {
            "text/plain": [
              "<Figure size 432x288 with 2 Axes>"
            ],
            "image/png": "[encoded data removed]"
          },
          "metadata": {
            "needs_background": "light"
          }
        },
        {
          "output_type": "stream",
          "name": "stdout",
          "text": [
            "Cantidad de atipicos en Parch es: 213 \n",
            " En porcentajes:  23.91 \n",
            " Rango intercuartil: 0.0\n",
            "Cantidad de atipicos en Parch es: 0 \n",
            " En porcentajes:  0.0 \n",
            " Rango intercuartil: 0.0\n"
          ]
        },
        {
          "output_type": "display_data",
          "data": {
            "text/plain": [
              "<Figure size 432x288 with 2 Axes>"
            ],
            "image/png": "[encoded data removed]"
          },
          "metadata": {
            "needs_background": "light"
          }
        },
        {
          "output_type": "stream",
          "name": "stdout",
          "text": [
            "Cantidad de atipicos en Fare es: 116 \n",
            " En porcentajes:  13.02 \n",
            " Rango intercuartil: 23.0896\n",
            "Cantidad de atipicos en Fare es: 25 \n",
            " En porcentajes:  2.81 \n",
            " Rango intercuartil: 18.1042\n"
          ]
        },
        {
          "output_type": "display_data",
          "data": {
            "text/plain": [
              "<Figure size 432x288 with 2 Axes>"
            ],
            "image/png": "[encoded data removed]"
          },
          "metadata": {
            "needs_background": "light"
          }
        }
      ]
    },
    {
      "cell_type": "code",
      "source": [
        "# y = np.where(df['Survived'] == '0'), 'No', 'Yes')\n",
        "df['Survived2'] = np.where(df['Survived'] == 1, 'Yes', 'No')\n",
        "# print(df.Survived, df.Survived2)"
      ],
      "metadata": {
        "id": "InMHRmSdLKy3"
      },
      "execution_count": 37,
      "outputs": []
    },
    {
      "cell_type": "code",
      "source": [
        "print(pd.pivot_table(df, index = 'Survived2', columns = 'Pclass', values = 'Ticket' ,aggfunc ='count'))\n",
        "print()\n",
        "print(pd.pivot_table(df, index = 'Survived2', columns = 'Sex', values = 'Ticket' ,aggfunc ='count'))\n",
        "print()\n",
        "print(pd.pivot_table(df, index = 'Survived2', columns = 'Embarked', values = 'Ticket' ,aggfunc ='count'))\n",
        "print()\n",
        "print(pd.pivot_table(df, index = 'Survived2', columns = 'Age', values = 'Ticket' ,aggfunc ='count'))\n",
        "print()\n",
        "# print(pd.pivot_table(df, index = 'Survived2', columns = 'Fare', values = 'Ticket' ,aggfunc ='count'))"
      ],
      "metadata": {
        "id": "AKgjc5U8Dv6P",
        "colab": {
          "base_uri": "https://localhost:8080/"
        },
        "outputId": "d0b19483-8655-4fe3-993a-fa7c5b7b0393"
      },
      "execution_count": 38,
      "outputs": [
        {
          "output_type": "stream",
          "name": "stdout",
          "text": [
            "Pclass       1   2    3\n",
            "Survived2              \n",
            "No          80  97  372\n",
            "Yes        136  87  119\n",
            "\n",
            "Sex        female  male\n",
            "Survived2              \n",
            "No             81   468\n",
            "Yes           233   109\n",
            "\n",
            "Embarked    C   Q    S\n",
            "Survived2             \n",
            "No         75  47  427\n",
            "Yes        93  30  217\n",
            "\n",
            "Age        0.42   0.67   0.75   0.83   0.92   1.00   2.00   3.00   4.00   \\\n",
            "Survived2                                                                  \n",
            "No           NaN    NaN    NaN    NaN    NaN    2.0    7.0    1.0    3.0   \n",
            "Yes          1.0    1.0    2.0    2.0    1.0    5.0    3.0    5.0    7.0   \n",
            "\n",
            "Age        5.00   ...  62.00  63.00  64.00  65.00  66.00  70.00  70.50  71.00  \\\n",
            "Survived2         ...                                                           \n",
            "No           NaN  ...    2.0    NaN    2.0    3.0    1.0    2.0    1.0    2.0   \n",
            "Yes          4.0  ...    2.0    2.0    NaN    NaN    NaN    NaN    NaN    NaN   \n",
            "\n",
            "Age        74.00  80.00  \n",
            "Survived2                \n",
            "No           1.0    NaN  \n",
            "Yes          NaN    1.0  \n",
            "\n",
            "[2 rows x 88 columns]\n",
            "\n"
          ]
        }
      ]
    },
    {
      "cell_type": "code",
      "source": [
        "pd.pivot_table(df, index = 'Survived2', values = ['Age','SibSp','Parch','Fare'])"
      ],
      "metadata": {
        "id": "oaLqcjw6NGZE",
        "colab": {
          "base_uri": "https://localhost:8080/",
          "height": 140
        },
        "outputId": "cf4cf970-eb25-4f02-d345-17145ea7c06d"
      },
      "execution_count": 39,
      "outputs": [
        {
          "output_type": "execute_result",
          "data": {
            "text/plain": [
              "                 Age       Fare     Parch     SibSp\n",
              "Survived2                                          \n",
              "No         30.626179  22.117887  0.329690  0.553734\n",
              "Yes        28.343690  48.395408  0.464912  0.473684"
            ],
            "text/html": [
              "\n",
              "  <div id=\"df-2cda3282-12f1-4739-9c3b-2e31dd42d864\">\n",
              "    <div class=\"colab-df-container\">\n",
              "      <div>\n",
              "<style scoped>\n",
              "    .dataframe tbody tr th:only-of-type {\n",
              "        vertical-align: middle;\n",
              "    }\n",
              "\n",
              "    .dataframe tbody tr th {\n",
              "        vertical-align: top;\n",
              "    }\n",
              "\n",
              "    .dataframe thead th {\n",
              "        text-align: right;\n",
              "    }\n",
              "</style>\n",
              "<table border=\"1\" class=\"dataframe\">\n",
              "  <thead>\n",
              "    <tr style=\"text-align: right;\">\n",
              "      <th></th>\n",
              "      <th>Age</th>\n",
              "      <th>Fare</th>\n",
              "      <th>Parch</th>\n",
              "      <th>SibSp</th>\n",
              "    </tr>\n",
              "    <tr>\n",
              "      <th>Survived2</th>\n",
              "      <th></th>\n",
              "      <th></th>\n",
              "      <th></th>\n",
              "      <th></th>\n",
              "    </tr>\n",
              "  </thead>\n",
              "  <tbody>\n",
              "    <tr>\n",
              "      <th>No</th>\n",
              "      <td>30.626179</td>\n",
              "      <td>22.117887</td>\n",
              "      <td>0.329690</td>\n",
              "      <td>0.553734</td>\n",
              "    </tr>\n",
              "    <tr>\n",
              "      <th>Yes</th>\n",
              "      <td>28.343690</td>\n",
              "      <td>48.395408</td>\n",
              "      <td>0.464912</td>\n",
              "      <td>0.473684</td>\n",
              "    </tr>\n",
              "  </tbody>\n",
              "</table>\n",
              "</div>\n",
              "      <button class=\"colab-df-convert\" onclick=\"convertToInteractive('df-2cda3282-12f1-4739-9c3b-2e31dd42d864')\"\n",
              "              title=\"Convert this dataframe to an interactive table.\"\n",
              "              style=\"display:none;\">\n",
              "        \n",
              "  <svg xmlns=\"http://www.w3.org/2000/svg\" height=\"24px\"viewBox=\"0 0 24 24\"\n",
              "       width=\"24px\">\n",
              "    <path d=\"M0 0h24v24H0V0z\" fill=\"none\"/>\n",
              "    <path d=\"M18.56 5.44l.94 2.06.94-2.06 2.06-.94-2.06-.94-.94-2.06-.94 2.06-2.06.94zm-11 1L8.5 8.5l.94-2.06 2.06-.94-2.06-.94L8.5 2.5l-.94 2.06-2.06.94zm10 10l.94 2.06.94-2.06 2.06-.94-2.06-.94-.94-2.06-.94 2.06-2.06.94z\"/><path d=\"M17.41 7.96l-1.37-1.37c-.4-.4-.92-.59-1.43-.59-.52 0-1.04.2-1.43.59L10.3 9.45l-7.72 7.72c-.78.78-.78 2.05 0 2.83L4 21.41c.39.39.9.59 1.41.59.51 0 1.02-.2 1.41-.59l7.78-7.78 2.81-2.81c.8-.78.8-2.07 0-2.86zM5.41 20L4 18.59l7.72-7.72 1.47 1.35L5.41 20z\"/>\n",
              "  </svg>\n",
              "      </button>\n",
              "      \n",
              "  <style>\n",
              "    .colab-df-container {\n",
              "      display:flex;\n",
              "      flex-wrap:wrap;\n",
              "      gap: 12px;\n",
              "    }\n",
              "\n",
              "    .colab-df-convert {\n",
              "      background-color: #E8F0FE;\n",
              "      border: none;\n",
              "      border-radius: 50%;\n",
              "      cursor: pointer;\n",
              "      display: none;\n",
              "      fill: #1967D2;\n",
              "      height: 32px;\n",
              "      padding: 0 0 0 0;\n",
              "      width: 32px;\n",
              "    }\n",
              "\n",
              "    .colab-df-convert:hover {\n",
              "      background-color: #E2EBFA;\n",
              "      box-shadow: 0px 1px 2px rgba(60, 64, 67, 0.3), 0px 1px 3px 1px rgba(60, 64, 67, 0.15);\n",
              "      fill: #174EA6;\n",
              "    }\n",
              "\n",
              "    [theme=dark] .colab-df-convert {\n",
              "      background-color: #3B4455;\n",
              "      fill: #D2E3FC;\n",
              "    }\n",
              "\n",
              "    [theme=dark] .colab-df-convert:hover {\n",
              "      background-color: #434B5C;\n",
              "      box-shadow: 0px 1px 3px 1px rgba(0, 0, 0, 0.15);\n",
              "      filter: drop-shadow(0px 1px 2px rgba(0, 0, 0, 0.3));\n",
              "      fill: #FFFFFF;\n",
              "    }\n",
              "  </style>\n",
              "\n",
              "      <script>\n",
              "        const buttonEl =\n",
              "          document.querySelector('#df-2cda3282-12f1-4739-9c3b-2e31dd42d864 button.colab-df-convert');\n",
              "        buttonEl.style.display =\n",
              "          google.colab.kernel.accessAllowed ? 'block' : 'none';\n",
              "\n",
              "        async function convertToInteractive(key) {\n",
              "          const element = document.querySelector('#df-2cda3282-12f1-4739-9c3b-2e31dd42d864');\n",
              "          const dataTable =\n",
              "            await google.colab.kernel.invokeFunction('convertToInteractive',\n",
              "                                                     [key], {});\n",
              "          if (!dataTable) return;\n",
              "\n",
              "          const docLinkHtml = 'Like what you see? Visit the ' +\n",
              "            '<a target=\"_blank\" href=https://colab.research.google.com/notebooks/data_table.ipynb>data table notebook</a>'\n",
              "            + ' to learn more about interactive tables.';\n",
              "          element.innerHTML = '';\n",
              "          dataTable['output_type'] = 'display_data';\n",
              "          await google.colab.output.renderOutput(dataTable, element);\n",
              "          const docLink = document.createElement('div');\n",
              "          docLink.innerHTML = docLinkHtml;\n",
              "          element.appendChild(docLink);\n",
              "        }\n",
              "      </script>\n",
              "    </div>\n",
              "  </div>\n",
              "  "
            ]
          },
          "metadata": {},
          "execution_count": 39
        }
      ]
    },
    {
      "cell_type": "markdown",
      "source": [
        "## Procesamiento de datos"
      ],
      "metadata": {
        "id": "fEMI5fpfUUHo"
      }
    },
    {
      "cell_type": "code",
      "source": [
        "train = pd.read_csv('sample_data/train.csv')\n",
        "test = pd.read_csv('sample_data/test.csv')\n",
        "forest_prediction = pd.DataFrame(test['PassengerId'])\n",
        "logR_prediction = pd.DataFrame(test['PassengerId']) \n",
        "\n",
        "train.dropna()\n",
        "test.dropna()\n",
        "\n",
        "y_train = train['Survived']\n",
        "x_train = train.drop(['Survived', 'Name', 'Ticket', 'Cabin', 'Embarked', 'Fare','PassengerId'], axis=1)\n",
        "\n",
        "x_test = test.drop(['Name', 'Ticket', 'Cabin', 'Embarked', 'Fare', 'PassengerId'], axis=1)\n",
        "\n",
        "x_train['Sex'].loc[x_train['Sex'] == 'male'] = 1\n",
        "x_train['Sex'].loc[x_train['Sex'] == 'female'] = 0\n",
        "x_train['Age'] = x_train['Age'].fillna(30)\n",
        "\n",
        "x_test['Sex'].loc[x_test['Sex'] == 'male'] = 1\n",
        "x_test['Sex'].loc[x_test['Sex'] == 'female'] = 0\n",
        "x_test['Age'] = x_test['Age'].fillna(30)\n",
        "\n",
        "x_test.dropna()\n",
        "\n",
        "x_train.dropna()\n",
        "print(x_train)"
      ],
      "metadata": {
        "colab": {
          "base_uri": "https://localhost:8080/"
        },
        "id": "gYuNNK1g75ih",
        "outputId": "2f4b10cd-409a-4dc8-e64a-42334a4cb430"
      },
      "execution_count": 71,
      "outputs": [
        {
          "output_type": "stream",
          "name": "stdout",
          "text": [
            "     Pclass Sex   Age  SibSp  Parch\n",
            "0         3   1  22.0      1      0\n",
            "1         1   0  38.0      1      0\n",
            "2         3   0  26.0      0      0\n",
            "3         1   0  35.0      1      0\n",
            "4         3   1  35.0      0      0\n",
            "..      ...  ..   ...    ...    ...\n",
            "886       2   1  27.0      0      0\n",
            "887       1   0  19.0      0      0\n",
            "888       3   0  30.0      1      2\n",
            "889       1   1  26.0      0      0\n",
            "890       3   1  32.0      0      0\n",
            "\n",
            "[891 rows x 5 columns]\n"
          ]
        },
        {
          "output_type": "stream",
          "name": "stderr",
          "text": [
            "/usr/local/lib/python3.7/dist-packages/pandas/core/indexing.py:1732: SettingWithCopyWarning: \n",
            "A value is trying to be set on a copy of a slice from a DataFrame\n",
            "\n",
            "See the caveats in the documentation: https://pandas.pydata.org/pandas-docs/stable/user_guide/indexing.html#returning-a-view-versus-a-copy\n",
            "  self._setitem_single_block(indexer, value, name)\n"
          ]
        }
      ]
    },
    {
      "cell_type": "code",
      "source": [
        "df = df.dropna()"
      ],
      "metadata": {
        "id": "RaibUxvJQBAB"
      },
      "execution_count": 41,
      "outputs": []
    },
    {
      "cell_type": "code",
      "source": [
        "training = pd.read_csv('sample_data/train.csv')\n",
        "training['train_test'] = 1\n",
        "all_data = pd.concat([training])\n",
        "%matplotlib inline\n",
        "all_data.columns"
      ],
      "metadata": {
        "id": "3F6j5v-0UV1h",
        "colab": {
          "base_uri": "https://localhost:8080/"
        },
        "outputId": "7b6ae0af-4595-4a7e-967a-ad630097399c"
      },
      "execution_count": 42,
      "outputs": [
        {
          "output_type": "execute_result",
          "data": {
            "text/plain": [
              "Index(['PassengerId', 'Survived', 'Pclass', 'Name', 'Sex', 'Age', 'SibSp',\n",
              "       'Parch', 'Ticket', 'Fare', 'Cabin', 'Embarked', 'train_test'],\n",
              "      dtype='object')"
            ]
          },
          "metadata": {},
          "execution_count": 42
        }
      ]
    },
    {
      "cell_type": "code",
      "source": [
        "#impute valores nulos para datos continuos\n",
        "all_data.Age = all_data.Age.fillna(training.Age.median())\n",
        "all_data.Fare = all_data.Fare.fillna(training.Fare.median())\n",
        "\n",
        "#drop null 'embarked' filas. Solo 2 instancias de esto en entrenamiento training \n",
        "all_data.dropna(subset=['Embarked'],inplace = True)\n",
        "\n",
        "#norma de registro de sibsp (no se usa)\n",
        "all_data['norm_sibsp'] = np.log(all_data.SibSp+1)\n",
        "all_data['norm_sibsp'].hist()\n",
        "\n",
        "# registro norma de fare\n",
        "all_data['norm_fare'] = np.log(all_data.Fare+1)\n",
        "all_data['norm_fare'].hist()\n",
        "\n",
        "# fare convertida a categoría para pd.get_dummies()\n",
        "all_data.Pclass = all_data.Pclass.astype(str)\n",
        "\n",
        "#variables dummy creadas a partir de categorías\n",
        "all_dummies = pd.get_dummies(all_data[['Pclass','Sex','Age','SibSp','Parch','norm_fare','Embarked','train_test']])\n",
        "\n",
        "\n",
        "X_train = all_dummies[all_dummies.train_test == 1].drop(['train_test'], axis =1)\n",
        "\n",
        "print(all_data)\n",
        "\n",
        "y_train = all_data[all_data.train_test==1].Survived\n",
        "y_train.shape"
      ],
      "metadata": {
        "id": "Ez_7mv3bOnSH",
        "colab": {
          "base_uri": "https://localhost:8080/",
          "height": 1000
        },
        "outputId": "3bb567da-e5f6-4045-b8fb-e7fd42d8e807"
      },
      "execution_count": 43,
      "outputs": [
        {
          "output_type": "stream",
          "name": "stdout",
          "text": [
            "     PassengerId  Survived Pclass  \\\n",
            "0              1         0      3   \n",
            "1              2         1      1   \n",
            "2              3         1      3   \n",
            "3              4         1      1   \n",
            "4              5         0      3   \n",
            "..           ...       ...    ...   \n",
            "886          887         0      2   \n",
            "887          888         1      1   \n",
            "888          889         0      3   \n",
            "889          890         1      1   \n",
            "890          891         0      3   \n",
            "\n",
            "                                                  Name     Sex   Age  SibSp  \\\n",
            "0                              Braund, Mr. Owen Harris    male  22.0      1   \n",
            "1    Cumings, Mrs. John Bradley (Florence Briggs Th...  female  38.0      1   \n",
            "2                               Heikkinen, Miss. Laina  female  26.0      0   \n",
            "3         Futrelle, Mrs. Jacques Heath (Lily May Peel)  female  35.0      1   \n",
            "4                             Allen, Mr. William Henry    male  35.0      0   \n",
            "..                                                 ...     ...   ...    ...   \n",
            "886                              Montvila, Rev. Juozas    male  27.0      0   \n",
            "887                       Graham, Miss. Margaret Edith  female  19.0      0   \n",
            "888           Johnston, Miss. Catherine Helen \"Carrie\"  female  28.0      1   \n",
            "889                              Behr, Mr. Karl Howell    male  26.0      0   \n",
            "890                                Dooley, Mr. Patrick    male  32.0      0   \n",
            "\n",
            "     Parch            Ticket     Fare Cabin Embarked  train_test  norm_sibsp  \\\n",
            "0        0         A/5 21171   7.2500   NaN        S           1    0.693147   \n",
            "1        0          PC 17599  71.2833   C85        C           1    0.693147   \n",
            "2        0  STON/O2. 3101282   7.9250   NaN        S           1    0.000000   \n",
            "3        0            113803  53.1000  C123        S           1    0.693147   \n",
            "4        0            373450   8.0500   NaN        S           1    0.000000   \n",
            "..     ...               ...      ...   ...      ...         ...         ...   \n",
            "886      0            211536  13.0000   NaN        S           1    0.000000   \n",
            "887      0            112053  30.0000   B42        S           1    0.000000   \n",
            "888      2        W./C. 6607  23.4500   NaN        S           1    0.693147   \n",
            "889      0            111369  30.0000  C148        C           1    0.000000   \n",
            "890      0            370376   7.7500   NaN        Q           1    0.000000   \n",
            "\n",
            "     norm_fare  \n",
            "0     2.110213  \n",
            "1     4.280593  \n",
            "2     2.188856  \n",
            "3     3.990834  \n",
            "4     2.202765  \n",
            "..         ...  \n",
            "886   2.639057  \n",
            "887   3.433987  \n",
            "888   3.196630  \n",
            "889   3.433987  \n",
            "890   2.169054  \n",
            "\n",
            "[889 rows x 15 columns]\n"
          ]
        },
        {
          "output_type": "execute_result",
          "data": {
            "text/plain": [
              "(889,)"
            ]
          },
          "metadata": {},
          "execution_count": 43
        },
        {
          "output_type": "display_data",
          "data": {
            "text/plain": [
              "<Figure size 432x288 with 1 Axes>"
            ],
            "image/png": "[encoded data removed]"
          },
          "metadata": {
            "needs_background": "light"
          }
        }
      ]
    },
    {
      "cell_type": "code",
      "source": [
        "#Scale data\n",
        "from sklearn.preprocessing import StandardScaler\n",
        "scale = StandardScaler()\n",
        "all_dummies_scaled = all_dummies.copy()\n",
        "print(all_dummies_scaled)\n",
        "all_dummies_scaled[['Age','SibSp','Parch','norm_fare']]= scale.fit_transform(all_dummies_scaled[['Age','SibSp','Parch','norm_fare']])\n",
        "all_dummies_scaled\n",
        "\n",
        "X_train_scaled = all_dummies_scaled[all_dummies_scaled.train_test == 1].drop(['train_test'], axis =1)\n",
        "\n",
        "y_train = all_data[all_data.train_test==1].Survived"
      ],
      "metadata": {
        "id": "pqJeYndbPHPi",
        "colab": {
          "base_uri": "https://localhost:8080/"
        },
        "outputId": "3094e504-8a9b-47f3-f1aa-13948f7317dc"
      },
      "execution_count": 44,
      "outputs": [
        {
          "output_type": "stream",
          "name": "stdout",
          "text": [
            "      Age  SibSp  Parch  norm_fare  train_test  Pclass_1  Pclass_2  Pclass_3  \\\n",
            "0    22.0      1      0   2.110213           1         0         0         1   \n",
            "1    38.0      1      0   4.280593           1         1         0         0   \n",
            "2    26.0      0      0   2.188856           1         0         0         1   \n",
            "3    35.0      1      0   3.990834           1         1         0         0   \n",
            "4    35.0      0      0   2.202765           1         0         0         1   \n",
            "..    ...    ...    ...        ...         ...       ...       ...       ...   \n",
            "886  27.0      0      0   2.639057           1         0         1         0   \n",
            "887  19.0      0      0   3.433987           1         1         0         0   \n",
            "888  28.0      1      2   3.196630           1         0         0         1   \n",
            "889  26.0      0      0   3.433987           1         1         0         0   \n",
            "890  32.0      0      0   2.169054           1         0         0         1   \n",
            "\n",
            "     Sex_female  Sex_male  Embarked_C  Embarked_Q  Embarked_S  \n",
            "0             0         1           0           0           1  \n",
            "1             1         0           1           0           0  \n",
            "2             1         0           0           0           1  \n",
            "3             1         0           0           0           1  \n",
            "4             0         1           0           0           1  \n",
            "..          ...       ...         ...         ...         ...  \n",
            "886           0         1           0           0           1  \n",
            "887           1         0           0           0           1  \n",
            "888           1         0           0           0           1  \n",
            "889           0         1           1           0           0  \n",
            "890           0         1           0           1           0  \n",
            "\n",
            "[889 rows x 13 columns]\n"
          ]
        }
      ]
    },
    {
      "cell_type": "code",
      "source": [
        "#TEST\n",
        "\n",
        "training = pd.read_csv('sample_data/test.csv')\n",
        "training['test_test'] = 1\n",
        "all_data = pd.concat([training])\n",
        "%matplotlib inline\n",
        "all_data.columns"
      ],
      "metadata": {
        "colab": {
          "base_uri": "https://localhost:8080/"
        },
        "id": "hcBc74k3reEB",
        "outputId": "ef710a4f-0908-4ef5-fc4a-c31279be3d9f"
      },
      "execution_count": 45,
      "outputs": [
        {
          "output_type": "execute_result",
          "data": {
            "text/plain": [
              "Index(['PassengerId', 'Pclass', 'Name', 'Sex', 'Age', 'SibSp', 'Parch',\n",
              "       'Ticket', 'Fare', 'Cabin', 'Embarked', 'test_test'],\n",
              "      dtype='object')"
            ]
          },
          "metadata": {},
          "execution_count": 45
        }
      ]
    },
    {
      "cell_type": "code",
      "source": [
        "#TEST\n",
        "\n",
        "#impute valores nulos para datos continuos\n",
        "all_data.Age = all_data.Age.fillna(training.Age.median())\n",
        "all_data.Fare = all_data.Fare.fillna(training.Fare.median())\n",
        "\n",
        "#drop null 'embarked' filas. Solo 2 instancias de esto en entrenamiento training \n",
        "all_data.dropna(subset=['Embarked'],inplace = True)\n",
        "\n",
        "#norma de registro de sibsp (no se usa)\n",
        "all_data['norm_sibsp'] = np.log(all_data.SibSp+1)\n",
        "all_data['norm_sibsp'].hist()\n",
        "\n",
        "# registro norma de fare\n",
        "all_data['norm_fare'] = np.log(all_data.Fare+1)\n",
        "all_data['norm_fare'].hist()\n",
        "\n",
        "# fare convertida a categoría para pd.get_dummies()\n",
        "all_data.Pclass = all_data.Pclass.astype(str)\n",
        "\n",
        "#variables dummy creadas a partir de categorías\n",
        "#all_dummies = pd.get_dummies(all_data[['Pclass','Sex','Age','SibSp','Parch','norm_fare','Embarked','train_test']])\n",
        "all_dummies = pd.get_dummies(all_data[['Pclass', 'Name', 'Sex', 'Age', 'SibSp', 'Parch', 'Ticket', 'Fare', 'Cabin', 'Embarked', 'test_test']])\n",
        "\n",
        "\n",
        "\n",
        "X_test = all_dummies[all_dummies.test_test == 1].drop(['test_test'], axis =1)\n"
      ],
      "metadata": {
        "colab": {
          "base_uri": "https://localhost:8080/",
          "height": 264
        },
        "id": "0z0B8ovXrWi1",
        "outputId": "eff8a342-f4f6-48f1-a4ec-418f79aefd4a"
      },
      "execution_count": 46,
      "outputs": [
        {
          "output_type": "display_data",
          "data": {
            "text/plain": [
              "<Figure size 432x288 with 1 Axes>"
            ],
            "image/png": "[encoded data removed]"
          },
          "metadata": {
            "needs_background": "light"
          }
        }
      ]
    },
    {
      "cell_type": "code",
      "source": [
        "from sklearn.preprocessing import StandardScaler\n",
        "scale = StandardScaler()\n",
        "all_dummies_scaled = all_dummies.copy()\n",
        "print(all_dummies_scaled)\n",
        "all_dummies_scaled[['Age','SibSp','Parch','Fare']]= scale.fit_transform(all_dummies_scaled[['Age','SibSp','Parch','Fare']])\n",
        "all_dummies_scaled\n",
        "\n",
        "X_test_scaled = all_dummies_scaled[all_dummies_scaled.test_test == 1].drop(['test_test'], axis =1)"
      ],
      "metadata": {
        "colab": {
          "base_uri": "https://localhost:8080/"
        },
        "id": "RRU67oqT6QNC",
        "outputId": "1cf6a60a-cd7b-4926-87b5-c4deed404222"
      },
      "execution_count": 47,
      "outputs": [
        {
          "output_type": "stream",
          "name": "stdout",
          "text": [
            "      Age  SibSp  Parch      Fare  test_test  Pclass_1  Pclass_2  Pclass_3  \\\n",
            "0    34.5      0      0    7.8292          1         0         0         1   \n",
            "1    47.0      1      0    7.0000          1         0         0         1   \n",
            "2    62.0      0      0    9.6875          1         0         1         0   \n",
            "3    27.0      0      0    8.6625          1         0         0         1   \n",
            "4    22.0      1      1   12.2875          1         0         0         1   \n",
            "..    ...    ...    ...       ...        ...       ...       ...       ...   \n",
            "413  27.0      0      0    8.0500          1         0         0         1   \n",
            "414  39.0      0      0  108.9000          1         1         0         0   \n",
            "415  38.5      0      0    7.2500          1         0         0         1   \n",
            "416  27.0      0      0    8.0500          1         0         0         1   \n",
            "417  27.0      1      1   22.3583          1         0         0         1   \n",
            "\n",
            "     Name_Abbott, Master. Eugene Joseph  Name_Abelseth, Miss. Karen Marie  \\\n",
            "0                                     0                                 0   \n",
            "1                                     0                                 0   \n",
            "2                                     0                                 0   \n",
            "3                                     0                                 0   \n",
            "4                                     0                                 0   \n",
            "..                                  ...                               ...   \n",
            "413                                   0                                 0   \n",
            "414                                   0                                 0   \n",
            "415                                   0                                 0   \n",
            "416                                   0                                 0   \n",
            "417                                   0                                 0   \n",
            "\n",
            "     ...  Cabin_F E46  Cabin_F E57  Cabin_F G63  Cabin_F2  Cabin_F33  \\\n",
            "0    ...            0            0            0         0          0   \n",
            "1    ...            0            0            0         0          0   \n",
            "2    ...            0            0            0         0          0   \n",
            "3    ...            0            0            0         0          0   \n",
            "4    ...            0            0            0         0          0   \n",
            "..   ...          ...          ...          ...       ...        ...   \n",
            "413  ...            0            0            0         0          0   \n",
            "414  ...            0            0            0         0          0   \n",
            "415  ...            0            0            0         0          0   \n",
            "416  ...            0            0            0         0          0   \n",
            "417  ...            0            0            0         0          0   \n",
            "\n",
            "     Cabin_F4  Cabin_G6  Embarked_C  Embarked_Q  Embarked_S  \n",
            "0           0         0           0           1           0  \n",
            "1           0         0           0           0           1  \n",
            "2           0         0           0           1           0  \n",
            "3           0         0           0           0           1  \n",
            "4           0         0           0           0           1  \n",
            "..        ...       ...         ...         ...         ...  \n",
            "413         0         0           0           0           1  \n",
            "414         0         0           1           0           0  \n",
            "415         0         0           0           0           1  \n",
            "416         0         0           0           0           1  \n",
            "417         0         0           1           0           0  \n",
            "\n",
            "[418 rows x 870 columns]\n"
          ]
        }
      ]
    },
    {
      "cell_type": "markdown",
      "source": [
        "Modelos"
      ],
      "metadata": {
        "id": "YpaA_x00SU_0"
      }
    },
    {
      "cell_type": "code",
      "source": [
        "from sklearn.linear_model import LogisticRegression\n",
        "from sklearn import tree\n",
        "from sklearn.ensemble import RandomForestClassifier\n",
        "from sklearn.tree import DecisionTreeRegressor, DecisionTreeClassifier\n",
        "from sklearn.model_selection import cross_val_score\n",
        "from sklearn.naive_bayes import GaussianNB\n"
      ],
      "metadata": {
        "id": "CGKkE9m6STO5"
      },
      "execution_count": 48,
      "outputs": []
    },
    {
      "cell_type": "markdown",
      "source": [
        "## Modelo 1: Regresión Logística\n"
      ],
      "metadata": {
        "id": "x5F4MPsvWb0Y"
      }
    },
    {
      "cell_type": "code",
      "source": [
        "gnb = GaussianNB()\n",
        "cv = cross_val_score(gnb,X_train_scaled,y_train,cv=5)\n",
        "print(cv)\n",
        "print(cv.mean())"
      ],
      "metadata": {
        "id": "mLR_miDzTx89",
        "colab": {
          "base_uri": "https://localhost:8080/"
        },
        "outputId": "74d26b5a-549a-47da-a95c-0eb81a8350ff"
      },
      "execution_count": 49,
      "outputs": [
        {
          "output_type": "stream",
          "name": "stdout",
          "text": [
            "[0.70786517 0.76404494 0.78089888 0.79213483 0.8079096 ]\n",
            "0.7705706849488987\n"
          ]
        }
      ]
    },
    {
      "cell_type": "code",
      "source": [
        "from sklearn.metrics import confusion_matrix\n",
        "lr = LogisticRegression()\n",
        "y_trained = lr.fit(x_train.values, y_train.values)\n",
        "y_trains = lr.predict(x_train)\n",
        "y_preds = lr.predict(x_test)\n",
        "mat = confusion_matrix(y_train, y_trains)\n",
        "sns.set()\n",
        "sns.heatmap(mat, square=True, annot=True, fmt='d', cbar=False)"
      ],
      "metadata": {
        "id": "uDaop3UojeCA",
        "colab": {
          "base_uri": "https://localhost:8080/",
          "height": 349
        },
        "outputId": "6b1ef337-9648-4e87-995b-3a4b84f4328f"
      },
      "execution_count": 89,
      "outputs": [
        {
          "output_type": "stream",
          "name": "stderr",
          "text": [
            "/usr/local/lib/python3.7/dist-packages/sklearn/base.py:444: UserWarning: X has feature names, but LogisticRegression was fitted without feature names\n",
            "  f\"X has feature names, but {self.__class__.__name__} was fitted without\"\n",
            "/usr/local/lib/python3.7/dist-packages/sklearn/base.py:444: UserWarning: X has feature names, but LogisticRegression was fitted without feature names\n",
            "  f\"X has feature names, but {self.__class__.__name__} was fitted without\"\n"
          ]
        },
        {
          "output_type": "execute_result",
          "data": {
            "text/plain": [
              "<matplotlib.axes._subplots.AxesSubplot at 0x7f4b2aa26d90>"
            ]
          },
          "metadata": {},
          "execution_count": 89
        },
        {
          "output_type": "display_data",
          "data": {
            "text/plain": [
              "<Figure size 432x288 with 1 Axes>"
            ],
            "image/png": "[encoded data removed]"
          },
          "metadata": {}
        }
      ]
    },
    {
      "cell_type": "code",
      "source": [
        "from sklearn.metrics import RocCurveDisplay, roc_auc_score, accuracy_score\n",
        "RocCurveDisplay.from_predictions(y_train, y_trains)\n",
        "print(accuracy_score(y_train, y_trains))"
      ],
      "metadata": {
        "colab": {
          "base_uri": "https://localhost:8080/",
          "height": 301
        },
        "id": "wrwK7SCG7gZV",
        "outputId": "243f6f8f-ea15-4279-d92c-3960e6e89fcc"
      },
      "execution_count": 54,
      "outputs": [
        {
          "output_type": "stream",
          "name": "stdout",
          "text": [
            "0.7901234567901234\n"
          ]
        },
        {
          "output_type": "display_data",
          "data": {
            "text/plain": [
              "<Figure size 432x288 with 1 Axes>"
            ],
            "image/png": "[encoded data removed]"
          },
          "metadata": {}
        }
      ]
    },
    {
      "cell_type": "code",
      "source": [
        "import pickle\n",
        "pickle.dump(lr, open('LR.pkl','wb'))"
      ],
      "metadata": {
        "id": "5miVTalAn2y7"
      },
      "execution_count": 55,
      "outputs": []
    },
    {
      "cell_type": "markdown",
      "source": [
        "## Modelo 2: Árboles de decisiones"
      ],
      "metadata": {
        "id": "HF9t8DiDWfAo"
      }
    },
    {
      "cell_type": "code",
      "source": [
        "rf = RandomForestClassifier(random_state = 1)\n",
        "#train a test\n",
        "#cv = cross_val_score(rf,X_test,y_test,cv=5)\n",
        "#print(cv)\n",
        "#print(cv.mean())"
      ],
      "metadata": {
        "id": "no2z_02kWhCw"
      },
      "execution_count": 80,
      "outputs": []
    },
    {
      "cell_type": "code",
      "source": [
        "arbol = DecisionTreeClassifier()\n",
        "forest = RandomForestClassifier(n_estimators=100, max_samples=0.07, random_state=42).fit(x_train, y_train)\n",
        "forest.fit(x_train, y_train)\n",
        "\n",
        "# cambiioooooooo\n",
        "f_predict = forest.predict(x_train)\n",
        "mat = confusion_matrix(y_train, f_predict)\n",
        "sns.set()\n",
        "sns.heatmap(mat, square=True, annot=True, fmt='d', cbar=False)"
      ],
      "metadata": {
        "id": "PL_Cf2Sii6L4",
        "colab": {
          "base_uri": "https://localhost:8080/",
          "height": 283
        },
        "outputId": "9bb10603-c93c-416e-8eed-c53c95f58a3d"
      },
      "execution_count": 81,
      "outputs": [
        {
          "output_type": "execute_result",
          "data": {
            "text/plain": [
              "<matplotlib.axes._subplots.AxesSubplot at 0x7f4b2e276e10>"
            ]
          },
          "metadata": {},
          "execution_count": 81
        },
        {
          "output_type": "display_data",
          "data": {
            "text/plain": [
              "<Figure size 432x288 with 1 Axes>"
            ],
            "image/png": "[encoded data removed]"
          },
          "metadata": {}
        }
      ]
    },
    {
      "cell_type": "code",
      "source": [
        "from sklearn.metrics import RocCurveDisplay, roc_auc_score, accuracy_score\n",
        "RocCurveDisplay.from_predictions(y_train, f_predict)\n",
        "print(accuracy_score(y_train, f_predict))"
      ],
      "metadata": {
        "colab": {
          "base_uri": "https://localhost:8080/",
          "height": 301
        },
        "id": "dSxfRrDD7pp5",
        "outputId": "4fb980dd-ef8e-456f-b7a5-1a4b80cc52b3"
      },
      "execution_count": 82,
      "outputs": [
        {
          "output_type": "stream",
          "name": "stdout",
          "text": [
            "0.8395061728395061\n"
          ]
        },
        {
          "output_type": "display_data",
          "data": {
            "text/plain": [
              "<Figure size 432x288 with 1 Axes>"
            ],
            "image/png": "[encoded data removed]"
          },
          "metadata": {}
        }
      ]
    },
    {
      "cell_type": "code",
      "source": [
        "import pickle\n",
        "pickle.dump(forest, open('RF.pkl','wb'))"
      ],
      "metadata": {
        "id": "6cfl-JUsoSu1"
      },
      "execution_count": 83,
      "outputs": []
    },
    {
      "cell_type": "code",
      "source": [
        "lr.predict([[3,0,25,0,0]])"
      ],
      "metadata": {
        "colab": {
          "base_uri": "https://localhost:8080/"
        },
        "id": "HULth7bspJn2",
        "outputId": "7cbfd1c5-d9d9-4ce9-f5e4-d50ef79696bb"
      },
      "execution_count": 90,
      "outputs": [
        {
          "output_type": "execute_result",
          "data": {
            "text/plain": [
              "array([1])"
            ]
          },
          "metadata": {},
          "execution_count": 90
        }
      ]
    },
    {
      "cell_type": "code",
      "source": [
        "pred_forest = forest.predict(x_test)\n",
        "\n",
        "forest_prediction['Survived'] = pred_forest\n",
        "compression_opts = dict(method='zip',\n",
        "                        archive_name='tree.csv')  \n",
        "forest_prediction.to_csv('tree.zip', index=False,\n",
        "          compression=compression_opts)  \n"
      ],
      "metadata": {
        "id": "kq-Wk3924oyh"
      },
      "execution_count": 85,
      "outputs": []
    },
    {
      "cell_type": "code",
      "source": [
        "pred_logR = lr.predict(x_test)\n",
        "\n",
        "logR_prediction['Survived'] = pred_logR\n",
        "compression_opts = dict(method='zip',\n",
        "                        archive_name='logR.csv')  \n",
        "logR_prediction.to_csv('logR.zip', index=False,\n",
        "          compression=compression_opts)  \n"
      ],
      "metadata": {
        "colab": {
          "base_uri": "https://localhost:8080/"
        },
        "id": "B53j2Yg_6GvP",
        "outputId": "f5e05d7a-a64a-48ca-e2b1-ac4bd60f92d0"
      },
      "execution_count": 91,
      "outputs": [
        {
          "output_type": "stream",
          "name": "stderr",
          "text": [
            "/usr/local/lib/python3.7/dist-packages/sklearn/base.py:444: UserWarning: X has feature names, but LogisticRegression was fitted without feature names\n",
            "  f\"X has feature names, but {self.__class__.__name__} was fitted without\"\n"
          ]
        }
      ]
    },
    {
      "cell_type": "code",
      "source": [
        "#simple performance reporting function\n",
        "def clf_performance(classifier, model_name):\n",
        "    print(model_name)\n",
        "    print('Best Score: ' + str(classifier.best_score_))\n",
        "    print('Best Parameters: ' + str(classifier.best_params_))"
      ],
      "metadata": {
        "id": "_A3UbiJSU5aT"
      },
      "execution_count": 96,
      "outputs": []
    },
    {
      "cell_type": "code",
      "source": [
        "lr = LogisticRegression()\n",
        "lr.fit(x_train.values, y_train.values)\n",
        "param_grid = {'max_iter' : [2000],\n",
        "              'penalty' : ['l1', 'l2'],\n",
        "              'C' : np.logspace(-4, 4, 20),\n",
        "              'solver' : ['liblinear']}\n",
        "\n",
        "clf_lr = GridSearchCV(lr, param_grid = param_grid, cv = 5, verbose = True, n_jobs = -1)\n",
        "best_clf_lr = clf_lr.fit(x_train.values, y_train.values)\n",
        "clf_performance(best_clf_lr,'Logistic Regression')"
      ],
      "metadata": {
        "id": "fDuwWAShU7mZ",
        "colab": {
          "base_uri": "https://localhost:8080/"
        },
        "outputId": "617169f2-ace1-40e1-ec50-ca3e45a2a303"
      },
      "execution_count": 100,
      "outputs": [
        {
          "output_type": "stream",
          "name": "stdout",
          "text": [
            "Fitting 5 folds for each of 40 candidates, totalling 200 fits\n",
            "Logistic Regression\n",
            "Best Score: 0.7979662293641328\n",
            "Best Parameters: {'C': 0.615848211066026, 'max_iter': 2000, 'penalty': 'l2', 'solver': 'liblinear'}\n"
          ]
        }
      ]
    },
    {
      "cell_type": "code",
      "source": [
        "rf = RandomForestClassifier(random_state = 1)\n",
        "param_grid =  {'n_estimators': [400,450,500,550],\n",
        "               'criterion':['gini','entropy'],\n",
        "                                  'bootstrap': [True],\n",
        "                                  'max_depth': [15, 20, 25],\n",
        "                                  'max_features': ['auto','sqrt', 10],\n",
        "                                  'min_samples_leaf': [2,3],\n",
        "                                  'min_samples_split': [2,3]}\n",
        "                                  \n",
        "clf_rf = GridSearchCV(rf, param_grid = param_grid, cv = 5, verbose = True, n_jobs = -1)\n",
        "best_clf_rf = clf_rf.fit(x_train.values, y_train.values)\n",
        "clf_performance(best_clf_rf,'Random Forest')"
      ],
      "metadata": {
        "id": "lpaIDWzVY9W0",
        "colab": {
          "base_uri": "https://localhost:8080/"
        },
        "outputId": "1ef685e7-06e6-4535-d7ca-40a06e7355c4"
      },
      "execution_count": 102,
      "outputs": [
        {
          "output_type": "stream",
          "name": "stdout",
          "text": [
            "Fitting 5 folds for each of 288 candidates, totalling 1440 fits\n"
          ]
        },
        {
          "output_type": "stream",
          "name": "stderr",
          "text": [
            "/usr/local/lib/python3.7/dist-packages/sklearn/model_selection/_validation.py:372: FitFailedWarning: \n",
            "480 fits failed out of a total of 1440.\n",
            "The score on these train-test partitions for these parameters will be set to nan.\n",
            "If these failures are not expected, you can try to debug them by setting error_score='raise'.\n",
            "\n",
            "Below are more details about the failures:\n",
            "--------------------------------------------------------------------------------\n",
            "480 fits failed with the following error:\n",
            "Traceback (most recent call last):\n",
            "  File \"/usr/local/lib/python3.7/dist-packages/sklearn/model_selection/_validation.py\", line 680, in _fit_and_score\n",
            "    estimator.fit(X_train, y_train, **fit_params)\n",
            "  File \"/usr/local/lib/python3.7/dist-packages/sklearn/ensemble/_forest.py\", line 467, in fit\n",
            "    for i, t in enumerate(trees)\n",
            "  File \"/usr/local/lib/python3.7/dist-packages/joblib/parallel.py\", line 1043, in __call__\n",
            "    if self.dispatch_one_batch(iterator):\n",
            "  File \"/usr/local/lib/python3.7/dist-packages/joblib/parallel.py\", line 861, in dispatch_one_batch\n",
            "    self._dispatch(tasks)\n",
            "  File \"/usr/local/lib/python3.7/dist-packages/joblib/parallel.py\", line 779, in _dispatch\n",
            "    job = self._backend.apply_async(batch, callback=cb)\n",
            "  File \"/usr/local/lib/python3.7/dist-packages/joblib/_parallel_backends.py\", line 208, in apply_async\n",
            "    result = ImmediateResult(func)\n",
            "  File \"/usr/local/lib/python3.7/dist-packages/joblib/_parallel_backends.py\", line 572, in __init__\n",
            "    self.results = batch()\n",
            "  File \"/usr/local/lib/python3.7/dist-packages/joblib/parallel.py\", line 263, in __call__\n",
            "    for func, args, kwargs in self.items]\n",
            "  File \"/usr/local/lib/python3.7/dist-packages/joblib/parallel.py\", line 263, in <listcomp>\n",
            "    for func, args, kwargs in self.items]\n",
            "  File \"/usr/local/lib/python3.7/dist-packages/sklearn/utils/fixes.py\", line 216, in __call__\n",
            "    return self.function(*args, **kwargs)\n",
            "  File \"/usr/local/lib/python3.7/dist-packages/sklearn/ensemble/_forest.py\", line 185, in _parallel_build_trees\n",
            "    tree.fit(X, y, sample_weight=curr_sample_weight, check_input=False)\n",
            "  File \"/usr/local/lib/python3.7/dist-packages/sklearn/tree/_classes.py\", line 942, in fit\n",
            "    X_idx_sorted=X_idx_sorted,\n",
            "  File \"/usr/local/lib/python3.7/dist-packages/sklearn/tree/_classes.py\", line 308, in fit\n",
            "    raise ValueError(\"max_features must be in (0, n_features]\")\n",
            "ValueError: max_features must be in (0, n_features]\n",
            "\n",
            "  warnings.warn(some_fits_failed_message, FitFailedWarning)\n",
            "/usr/local/lib/python3.7/dist-packages/sklearn/model_selection/_search.py:972: UserWarning: One or more of the test scores are non-finite: [0.82046952 0.82046952 0.82271044 0.82382776 0.82046952 0.82046952\n",
            " 0.82271044 0.82382776 0.8204758  0.82384031 0.82271672 0.82271672\n",
            " 0.8204758  0.82384031 0.82271672 0.82271672 0.82046952 0.82046952\n",
            " 0.82271044 0.82382776 0.82046952 0.82046952 0.82271044 0.82382776\n",
            " 0.8204758  0.82384031 0.82271672 0.82271672 0.8204758  0.82384031\n",
            " 0.82271672 0.82271672        nan        nan        nan        nan\n",
            "        nan        nan        nan        nan        nan        nan\n",
            "        nan        nan        nan        nan        nan        nan\n",
            " 0.82046952 0.82046325 0.82382776 0.82382776 0.82046952 0.82046325\n",
            " 0.82382776 0.82382776 0.8204758  0.82495763 0.82383403 0.82383403\n",
            " 0.8204758  0.82495763 0.82383403 0.82383403 0.82046952 0.82046325\n",
            " 0.82382776 0.82382776 0.82046952 0.82046325 0.82382776 0.82382776\n",
            " 0.8204758  0.82495763 0.82383403 0.82383403 0.8204758  0.82495763\n",
            " 0.82383403 0.82383403        nan        nan        nan        nan\n",
            "        nan        nan        nan        nan        nan        nan\n",
            "        nan        nan        nan        nan        nan        nan\n",
            " 0.81934593 0.82046325 0.82382776 0.82382776 0.81934593 0.82046325\n",
            " 0.82382776 0.82382776 0.8204758  0.82495763 0.82383403 0.82383403\n",
            " 0.8204758  0.82495763 0.82383403 0.82383403 0.81934593 0.82046325\n",
            " 0.82382776 0.82382776 0.81934593 0.82046325 0.82382776 0.82382776\n",
            " 0.8204758  0.82495763 0.82383403 0.82383403 0.8204758  0.82495763\n",
            " 0.82383403 0.82383403        nan        nan        nan        nan\n",
            "        nan        nan        nan        nan        nan        nan\n",
            "        nan        nan        nan        nan        nan        nan\n",
            " 0.82046952 0.82159312 0.82270416 0.82158684 0.82046952 0.82159312\n",
            " 0.82270416 0.82158684 0.82158684 0.82382776 0.82382776 0.82271044\n",
            " 0.82158684 0.82382776 0.82382776 0.82271044 0.82046952 0.82159312\n",
            " 0.82270416 0.82158684 0.82046952 0.82159312 0.82270416 0.82158684\n",
            " 0.82158684 0.82382776 0.82382776 0.82271044 0.82158684 0.82382776\n",
            " 0.82382776 0.82271044        nan        nan        nan        nan\n",
            "        nan        nan        nan        nan        nan        nan\n",
            "        nan        nan        nan        nan        nan        nan\n",
            " 0.82158684 0.82271044 0.82270416 0.82270416 0.82158684 0.82271044\n",
            " 0.82270416 0.82270416 0.82046952 0.82382776 0.82494508 0.82382776\n",
            " 0.82046952 0.82382776 0.82494508 0.82382776 0.82158684 0.82271044\n",
            " 0.82270416 0.82270416 0.82158684 0.82271044 0.82270416 0.82270416\n",
            " 0.82046952 0.82382776 0.82494508 0.82382776 0.82046952 0.82382776\n",
            " 0.82494508 0.82382776        nan        nan        nan        nan\n",
            "        nan        nan        nan        nan        nan        nan\n",
            "        nan        nan        nan        nan        nan        nan\n",
            " 0.82158684 0.82271044 0.82270416 0.82270416 0.82158684 0.82271044\n",
            " 0.82270416 0.82270416 0.82046952 0.82382776 0.82494508 0.82382776\n",
            " 0.82046952 0.82382776 0.82494508 0.82382776 0.82158684 0.82271044\n",
            " 0.82270416 0.82270416 0.82158684 0.82271044 0.82270416 0.82270416\n",
            " 0.82046952 0.82382776 0.82494508 0.82382776 0.82046952 0.82382776\n",
            " 0.82494508 0.82382776        nan        nan        nan        nan\n",
            "        nan        nan        nan        nan        nan        nan\n",
            "        nan        nan        nan        nan        nan        nan]\n",
            "  category=UserWarning,\n"
          ]
        },
        {
          "output_type": "stream",
          "name": "stdout",
          "text": [
            "Random Forest\n",
            "Best Score: 0.8249576297784195\n",
            "Best Parameters: {'bootstrap': True, 'criterion': 'gini', 'max_depth': 20, 'max_features': 'auto', 'min_samples_leaf': 3, 'min_samples_split': 2, 'n_estimators': 450}\n"
          ]
        }
      ]
    },
    {
      "cell_type": "code",
      "source": [
        "from sklearn.ensemble import VotingClassifier\n",
        "\n",
        "best_lr = best_clf_lr.best_estimator_\n",
        "best_rf = best_clf_rf.best_estimator_\n",
        "\n",
        "voting_clf_hard = VotingClassifier(estimators = [('rf',best_rf)], voting = 'hard') \n",
        "voting_clf_soft = VotingClassifier(estimators = [('rf',best_rf)], voting = 'soft') \n",
        "voting_clf_all = VotingClassifier(estimators = [('rf',best_rf),('lr', best_lr)], voting = 'soft') \n",
        "voting_clf_xgb = VotingClassifier(estimators = [('rf',best_rf),('lr', best_lr)], voting = 'soft')\n",
        "\n",
        "print('voting_clf_hard :',cross_val_score(voting_clf_hard,x_train.values, y_train.values,cv=5))\n",
        "print('voting_clf_hard mean :',cross_val_score(voting_clf_hard,x_train.values, y_train.values,cv=5).mean())\n",
        "print('voting_clf_soft :',cross_val_score(voting_clf_soft,x_train.values, y_train.values,cv=5))\n",
        "print('voting_clf_soft mean :',cross_val_score(voting_clf_soft,x_train.values, y_train.values,cv=5).mean())\n",
        "\n",
        "print('voting_clf_all :',cross_val_score(voting_clf_all,x_train.values, y_train.values,cv=5))\n",
        "print('voting_clf_all mean :',cross_val_score(voting_clf_all,x_train.values, y_train.values,cv=5).mean())\n",
        "\n",
        "print('voting_clf_xgb :',cross_val_score(voting_clf_xgb,x_train.values, y_train.values,cv=5))\n",
        "print('voting_clf_xgb mean :',cross_val_score(voting_clf_xgb,x_train.values, y_train.values,cv=5).mean())"
      ],
      "metadata": {
        "id": "ydFuB61YZKgT",
        "colab": {
          "base_uri": "https://localhost:8080/"
        },
        "outputId": "dd210a9c-36bb-4c70-c1b2-54c16dd49f91"
      },
      "execution_count": 107,
      "outputs": [
        {
          "output_type": "stream",
          "name": "stdout",
          "text": [
            "voting_clf_hard : [0.7877095  0.82022472 0.83707865 0.82022472 0.85955056]\n",
            "voting_clf_hard mean : 0.8249576297784195\n",
            "voting_clf_soft : [0.7877095  0.82022472 0.83707865 0.82022472 0.85955056]\n",
            "voting_clf_soft mean : 0.8249576297784195\n",
            "voting_clf_all : [0.81005587 0.82022472 0.82022472 0.79775281 0.83707865]\n",
            "voting_clf_all mean : 0.8170673529596385\n",
            "voting_clf_xgb : [0.81005587 0.82022472 0.82022472 0.79775281 0.83707865]\n",
            "voting_clf_xgb mean : 0.8170673529596385\n"
          ]
        }
      ]
    },
    {
      "cell_type": "code",
      "source": [],
      "metadata": {
        "id": "gmkOmHePGyZA"
      },
      "execution_count": null,
      "outputs": []
    }
  ]
}